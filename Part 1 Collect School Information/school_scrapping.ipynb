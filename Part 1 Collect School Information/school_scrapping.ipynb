{
 "cells": [
  {
   "cell_type": "code",
   "execution_count": null,
   "id": "006fb9c2",
   "metadata": {},
   "outputs": [],
   "source": [
    "import requests\n",
    "from bs4 import BeautifulSoup\n",
    "import time\n",
    "import random\n",
    "\n",
    "BASE_URL = \"https://www.cde.ca.gov/SchoolDirectory/districtschool?allSearch=Los+Angeles&simpleSearch=Y\"\n",
    "\n",
    "def fetch_page_data(page_number):\n",
    "    url = f\"{BASE_URL}&page={page_number}\"\n",
    "    response = requests.get(url)\n",
    "    \n",
    "    if response.status_code != 200:\n",
    "        print(f\"Failed to retrieve page {page_number}. Status code: {response.status_code}\")\n",
    "        return []\n",
    "\n",
    "    soup = BeautifulSoup(response.content, 'html.parser')\n",
    "    schools = []\n",
    "    \n",
    "    for row in soup.find_all('tr'):\n",
    "        cells = row.find_all('td')\n",
    "        if len(cells) > 0:\n",
    "            school_name = cells[0].text.strip()\n",
    "            street_address = cells[1].text.strip()\n",
    "            street_zip = cells[2].text.strip()\n",
    "            latitude = cells[3].text.strip()\n",
    "            longitude = cells[4].text.strip()\n",
    "\n",
    "            schools.append({\n",
    "                \"School\": school_name,\n",
    "                \"Street Address\": street_address,\n",
    "                \"Street Zip\": street_zip,\n",
    "                \"Latitude\": latitude,\n",
    "                \"Longitude\": longitude\n",
    "            })\n",
    "    \n",
    "    return schools\n",
    "\n",
    "def scrape_with_pagination(total_pages):\n",
    "    all_schools = []\n",
    "\n",
    "    for page_number in range(1, total_pages + 1):\n",
    "        print(f\"Scraping page {page_number}...\")\n",
    "        page_data = fetch_page_data(page_number)\n",
    "        \n",
    "        if not page_data:\n",
    "            print(f\"No data found on page {page_number}, skipping.\")\n",
    "            continue\n",
    "        \n",
    "        all_schools.extend(page_data)\n",
    "        time.sleep(random.uniform(1, 3))\n",
    "\n",
    "    return all_schools\n",
    "\n",
    "total_pages = 5\n",
    "scraped_data = scrape_with_pagination(total_pages)\n",
    "\n",
    "for school in scraped_data:\n",
    "    print(school)\n"
   ]
  },
  {
   "cell_type": "code",
   "execution_count": null,
   "id": "797d310b",
   "metadata": {},
   "outputs": [
    {
     "name": "stdout",
     "output_type": "stream",
     "text": [
      "Data cleaned and saved back to the CSV.\n"
     ]
    }
   ],
   "source": [
    "import pandas as pd\n",
    "\n",
    "df = pd.read_csv('output1.csv')\n",
    "\n",
    "df['Latitude'] = pd.to_numeric(df['Latitude'], errors='coerce')\n",
    "df['Longitude'] = pd.to_numeric(df['Longitude'], errors='coerce')\n",
    "\n",
    "df = df.dropna(subset=['Latitude', 'Longitude'])\n",
    "\n",
    "df.to_csv('output1.csv', index=False)\n",
    "\n",
    "print(\"Data cleaned and saved back to the CSV.\")\n"
   ]
  },
  {
   "cell_type": "code",
   "execution_count": null,
   "id": "3a874029",
   "metadata": {},
   "outputs": [
    {
     "name": "stdout",
     "output_type": "stream",
     "text": [
      "Requirement already satisfied: shapely in c:\\users\\galah\\mycodes\\projectz\\usc\\venv\\lib\\site-packages (2.1.0)\n",
      "Requirement already satisfied: numpy>=1.21 in c:\\users\\galah\\mycodes\\projectz\\usc\\venv\\lib\\site-packages (from shapely) (2.2.4)\n",
      "Index(['Record Type', 'County', 'School', 'Latitude', 'Longitude',\n",
      "       'Street Address', 'Street City', 'Street State', 'Street Zip',\n",
      "       'Mailing Address', 'Phone'],\n",
      "      dtype='object')\n",
      "Filtered CSV saved.\n"
     ]
    },
    {
     "name": "stderr",
     "output_type": "stream",
     "text": [
      "\n",
      "[notice] A new release of pip is available: 24.0 -> 25.0.1\n",
      "[notice] To update, run: python.exe -m pip install --upgrade pip\n"
     ]
    }
   ],
   "source": [
    "!pip install shapely\n",
    "import pandas as pd\n",
    "from shapely.geometry import Point, Polygon\n",
    "\n",
    "df = pd.read_csv('output1.csv') \n",
    "print(df.columns)\n",
    "\n",
    "LA_POLYGON = Polygon([\n",
    "    (-118.67, 34.34),  \n",
    "    (-118.15, 34.34),  \n",
    "    (-118.15, 33.7),   \n",
    "    (-118.67, 33.7),   \n",
    "    (-118.67, 34.34)   \n",
    "])\n",
    "\n",
    "def is_in_LA(lat, lon):\n",
    "    return LA_POLYGON.contains(Point(lon, lat))\n",
    "\n",
    "filtered_df = df[df.apply(lambda row: is_in_LA(row['Latitude'], row['Longitude']), axis=1)]\n",
    "\n",
    "filtered_df.to_csv('filtered_output1.csv', index=False)\n",
    "\n",
    "print(\"Filtered CSV saved.\")\n"
   ]
  },
  {
   "cell_type": "code",
   "execution_count": 57,
   "id": "2a668fab",
   "metadata": {},
   "outputs": [
    {
     "name": "stdout",
     "output_type": "stream",
     "text": [
      "                Latitude             Longitude\n",
      "0              34.050103           -118.260519\n",
      "1              34.031953           -118.266279\n",
      "2                No Data               No Data\n",
      "3              33.878924           -118.071286\n",
      "4                No Data               No Data\n",
      "5              33.878552           -118.071161\n",
      "6              33.875048           -118.078203\n",
      "7   Information Redacted  Information Redacted\n",
      "8              33.835176           -118.083725\n",
      "9              33.845962           -118.074404\n",
      "10               No Data               No Data\n",
      "11             33.855106           -118.089062\n",
      "12  Information Redacted  Information Redacted\n",
      "13             33.868839           -118.086673\n",
      "14               No Data               No Data\n",
      "15               No Data               No Data\n",
      "16             33.880705           -118.045567\n",
      "17             33.856100           -118.068540\n",
      "18             33.865877           -118.041993\n",
      "19             33.865464           -118.064791\n",
      "20  Information Redacted  Information Redacted\n",
      "21  Information Redacted  Information Redacted\n",
      "22  Information Redacted  Information Redacted\n",
      "23               No Data               No Data\n",
      "24             33.864919           -118.069859\n",
      "25             33.835028           -118.076580\n",
      "26               No Data               No Data\n",
      "27             33.826696           -118.076086\n",
      "28             33.873114           -118.097252\n",
      "29             33.878666           -118.040853\n",
      "30             33.846085           -118.087538\n",
      "31             33.823770           -118.067690\n",
      "32  Information Redacted  Information Redacted\n",
      "33             33.874506           -118.078892\n",
      "34             33.872156           -118.070652\n",
      "35  Information Redacted  Information Redacted\n",
      "36             33.861096           -118.056768\n",
      "37             33.836071           -118.067648\n",
      "38               No Data               No Data\n",
      "39               No Data               No Data\n",
      "40             33.878578           -118.085684\n",
      "41             33.852834           -118.076495\n",
      "42             33.861873           -118.079461\n",
      "43             33.842391           -118.066517\n",
      "44               No Data               No Data\n",
      "45             33.870971           -118.076904\n",
      "46               No Data               No Data\n",
      "47             33.876365           -118.045809\n",
      "48               No Data               No Data\n",
      "49             34.425607           -118.541404\n"
     ]
    }
   ],
   "source": [
    "print(df[['Latitude', 'Longitude']].head(50))\n"
   ]
  }
 ],
 "metadata": {
  "kernelspec": {
   "display_name": "venv",
   "language": "python",
   "name": "python3"
  },
  "language_info": {
   "codemirror_mode": {
    "name": "ipython",
    "version": 3
   },
   "file_extension": ".py",
   "mimetype": "text/x-python",
   "name": "python",
   "nbconvert_exporter": "python",
   "pygments_lexer": "ipython3",
   "version": "3.12.4"
  }
 },
 "nbformat": 4,
 "nbformat_minor": 5
}
